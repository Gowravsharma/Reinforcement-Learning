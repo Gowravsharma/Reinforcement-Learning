{
 "cells": [
  {
   "cell_type": "markdown",
   "id": "a95a7284",
   "metadata": {},
   "source": [
    "### Monte Carlo Predictions"
   ]
  },
  {
   "cell_type": "markdown",
   "id": "c4fe038c",
   "metadata": {},
   "source": [
    "***Simple Grid World***"
   ]
  },
  {
   "cell_type": "markdown",
   "id": "61d7556f",
   "metadata": {},
   "source": [
    "**1.Environment Setup (Simple GridWorld or Custom)**"
   ]
  },
  {
   "cell_type": "code",
   "execution_count": 3,
   "id": "c179ae42",
   "metadata": {},
   "outputs": [],
   "source": [
    "import numpy as np\n",
    "import random\n",
    "\n",
    "# Define a simple environment\n",
    "states = [0, 1, 2, 3]\n",
    "terminal_states = [3]\n",
    "actions = ['left', 'right']\n",
    "transitions = {\n",
    "    0: {'right': 1},\n",
    "    1: {'right': 2, 'left': 0},\n",
    "    2: {'right': 3, 'left': 1}\n",
    "}\n",
    "rewards = {\n",
    "    (2, 'right'): 1\n",
    "}\n"
   ]
  },
  {
   "cell_type": "markdown",
   "id": "23429e14",
   "metadata": {},
   "source": [
    "**2.Define a Policy $\\pi$**"
   ]
  },
  {
   "cell_type": "code",
   "execution_count": 4,
   "id": "ed500017",
   "metadata": {},
   "outputs": [],
   "source": [
    "def policy(state):\n",
    "  return 'right' if 'right' in transitions.get(state, {}) else None\n"
   ]
  },
  {
   "cell_type": "markdown",
   "id": "af4013dd",
   "metadata": {},
   "source": [
    "**3.Generate an Episode using $\\pi$**"
   ]
  },
  {
   "cell_type": "code",
   "execution_count": 5,
   "id": "bd85f7dc",
   "metadata": {},
   "outputs": [],
   "source": [
    "def generate_episode():\n",
    "  episode = []\n",
    "  state = 0\n",
    "  while state not in terminal_states:\n",
    "    action = policy(state)\n",
    "    next_state = transitions[state][action]\n",
    "    reward = rewards.get((state, action), 0)\n",
    "    episode.append((state, action, reward))\n",
    "    state = next_state\n",
    "  return episode\n"
   ]
  },
  {
   "cell_type": "markdown",
   "id": "ed98ec77",
   "metadata": {},
   "source": [
    "**4.Monte Carlo Prediction Algorithm**"
   ]
  },
  {
   "cell_type": "code",
   "execution_count": null,
   "id": "d6bbeaa7",
   "metadata": {},
   "outputs": [],
   "source": [
    "def monte_carlo_prediction(num_episodes=1000):\n",
    "    V = {s: 0 for s in states}\n",
    "    Returns = {s: [] for s in states}\n",
    "\n",
    "    for _ in range(num_episodes):\n",
    "        episode = generate_episode()\n",
    "        visited_states = set()\n",
    "        G = 0\n",
    "        # Calculate returns in reverse (for efficiency)\n",
    "        for t in reversed(range(len(episode))):\n",
    "            state, _, reward = episode[t]\n",
    "            G = reward + G\n",
    "            if state not in visited_states:\n",
    "                visited_states.add(state)\n",
    "                Returns[state].append(G)\n",
    "                V[state] = np.mean(Returns[state])\n",
    "    return V\n"
   ]
  },
  {
   "cell_type": "markdown",
   "id": "6ac5663e",
   "metadata": {},
   "source": [
    "**5.Results**"
   ]
  },
  {
   "cell_type": "code",
   "execution_count": 7,
   "id": "55b7f1c5",
   "metadata": {},
   "outputs": [
    {
     "name": "stdout",
     "output_type": "stream",
     "text": [
      "V(0) = 1.00\n",
      "V(1) = 1.00\n",
      "V(2) = 1.00\n",
      "V(3) = 0.00\n"
     ]
    }
   ],
   "source": [
    "V = monte_carlo_prediction(1000)\n",
    "for s in V:\n",
    "    print(f\"V({s}) = {V[s]:.2f}\")\n"
   ]
  }
 ],
 "metadata": {
  "kernelspec": {
   "display_name": "Python 3",
   "language": "python",
   "name": "python3"
  },
  "language_info": {
   "codemirror_mode": {
    "name": "ipython",
    "version": 3
   },
   "file_extension": ".py",
   "mimetype": "text/x-python",
   "name": "python",
   "nbconvert_exporter": "python",
   "pygments_lexer": "ipython3",
   "version": "3.10.6"
  }
 },
 "nbformat": 4,
 "nbformat_minor": 5
}
